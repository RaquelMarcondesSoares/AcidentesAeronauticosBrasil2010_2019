{
  "nbformat": 4,
  "nbformat_minor": 0,
  "metadata": {
    "colab": {
      "name": "Untitled1.ipynb",
      "provenance": [],
      "toc_visible": true,
      "authorship_tag": "ABX9TyNsnlDn+SfIx0A6iXjGLCef",
      "include_colab_link": true
    },
    "kernelspec": {
      "name": "python3",
      "display_name": "Python 3"
    },
    "language_info": {
      "name": "python"
    }
  },
  "cells": [
    {
      "cell_type": "markdown",
      "metadata": {
        "id": "view-in-github",
        "colab_type": "text"
      },
      "source": [
        "<a href=\"https://colab.research.google.com/github/RaquelMarcondesSoares/AcidentesAeronauticosBrasil2010_2019/blob/main/ProjetoRaquel.ipynb\" target=\"_parent\"><img src=\"https://colab.research.google.com/assets/colab-badge.svg\" alt=\"Open In Colab\"/></a>"
      ]
    },
    {
      "cell_type": "code",
      "execution_count": 1,
      "metadata": {
        "id": "HGQDG9eVcddH"
      },
      "outputs": [],
      "source": [
        "# This Python 3 environment comes with many helpful analytics libraries installed\n",
        "# It is defined by the kaggle/python docker image: https://github.com/kaggle/docker-python\n",
        "# For example, here's several helpful packages to load in \n",
        "\n",
        "import numpy as np # linear algebra\n",
        "import pandas as pd # data processing, CSV file I/O (e.g. pd.read_csv)\n",
        "\n",
        "import matplotlib.pyplot as plt\n",
        "import seaborn as sns\n",
        "import scipy.stats as st\n",
        "\n",
        "from collections import Counter\n",
        "import statistics as static"
      ]
    },
    {
      "cell_type": "markdown",
      "source": [
        "NumPy\n",
        "\n",
        "NumPy é usada principalmente para realizar cálculos em Arrays Multidimensionais. O NumPy fornece um grande conjunto de funções e operações de biblioteca que ajudam os programadores a executar facilmente cálculos numéricos (MEDIUM, 2018).\n",
        "\n",
        "Pandas\n",
        "\n",
        "A biblioteca Pandas é utilizada para análise de dados. O Pandas vem com um conjunto de opções e configurações alteráveis pelo usuário. Eles podem aumentar muito a produtividade, pois permitem que você personalize o ambiente do Pandas exatamente de acordo com suas preferências. EX: alterar algumas das configurações de exibição do Pandas para alterar quantas linhas e colunas são mostradas e com que precisão os números de ponto flutuante são exibidos (VOITTO, 2021)\n",
        "\n",
        "Matplotlib\n",
        "\n",
        "Matplotlib é uma biblioteca para criação de gráficos e visualização de dados em geral e foi feita para a linguagem de programação Python. Além disso, ele oferece uma interface de programação orientada a objetos para incluir gráficos através de toolkits de interface gráfica como o Tkinter, Wxpython, Qt ou GTK (MEDIUM, 2020).\n",
        "\n",
        "Seaborn\n",
        "\n",
        "A biblioteca Seaborn trabalha em cima do matplotlib e ajuda a melhorar o visual dos gráficos, dando uma aparência mais bem acabada (VOOOO, 2017).\n",
        "\n",
        "Scipy/scipy.stats\n",
        "\n",
        "O SciPy é o pacote principal de rotinas científicas em Python, que se destina a operar de forma eficiente em matrizes numpy, de modo que numpy e scipy trabalhem lado a lado. scipy contém várias ferramentas dedicadas a problemas comuns em computação científica. Seus diferentes sub-módulos correspondem a diferentes aplicações, tais como interpolação, integração, otimização, processamento de imagens, estatísticas, funções especiais, etc (UFPR, ?).\n",
        "\n",
        "Collections counter\n",
        "\n",
        "Um Counter é uma subclasse de dict subclass para contagem de objetos hasheáveis. É uma coleção na qual elementos são armazenados como chaves de dicionário e suas contagens são armazenadas como valores de dicionário. Contagens podem ser qualquer valor inteiro incluindo zero e contagens negativas. A classe Counter é similar a sacos ou multiconjuntos em outras linguagens (PYTHON, ?)"
      ],
      "metadata": {
        "id": "BczVo8xicwfO"
      }
    },
    {
      "cell_type": "code",
      "source": [
        "#exibir dados no gráfico quando este for em barras horizontais\n",
        "def numero_em_cima(rects, ax): \n",
        "    for rect in rects:\n",
        "        height = rect.get_height()\n",
        "        ax.annotate('{}'.format(height),\n",
        "                    xy=(rect.get_x() + rect.get_width() / 2, height),\n",
        "                    xytext=(0, 3),  \n",
        "                    textcoords=\"offset points\",\n",
        "                    ha='center', va='bottom')"
      ],
      "metadata": {
        "id": "baaIgWi1czRr"
      },
      "execution_count": 2,
      "outputs": []
    },
    {
      "cell_type": "code",
      "source": [
        "import pandas as pd \n",
        "df=pd.read_csv('ocorrencia.csv')"
      ],
      "metadata": {
        "id": "N58iU4L1hbM6"
      },
      "execution_count": 17,
      "outputs": []
    },
    {
      "cell_type": "code",
      "source": [
        "#divindo as ocorrências por região\n",
        "ocorrencia_uf = {'Nordeste': ['AL', 'BA', 'CE', 'MA', 'PB', 'PE', 'PI', 'RN', 'SE'],\n",
        "                'Norte': ['AM', 'RR', 'AP', 'PA', 'TO', 'RO', 'AC'],\n",
        "                'Centro Oeste': ['MT', 'MS', 'GO'], \n",
        "                'Sudeste': ['SP', 'RJ', 'ES', 'MG'],\n",
        "                'Sul': ['PR', 'RS', 'SC']}\n",
        "tipos = ['ACIDENTE', 'INCIDENTE','INCIDENTE GRAVE']\n",
        "dic_01 = {i: [ len([k for k in list(ocorrencia_classificacao.loc[ocorrencia_classificacao['tipo'] == i, ['estado']]['estado'])\n",
        "                    if k in ocorrencia_uf[j]]) for j in ocorrencia_uf.keys()] for i in tipos}\n",
        "\n",
        "dic_01['Região'] = list(ocorrencia_uf.keys())\n",
        "dados_regioes = pd.DataFrame(dic_01)"
      ],
      "metadata": {
        "colab": {
          "base_uri": "https://localhost:8080/",
          "height": 415
        },
        "id": "PoOlAjCGkrcq",
        "outputId": "6d89f448-aec9-4222-f964-3f459c7786a0"
      },
      "execution_count": 27,
      "outputs": [
        {
          "output_type": "error",
          "ename": "AttributeError",
          "evalue": "ignored",
          "traceback": [
            "\u001b[0;31m---------------------------------------------------------------------------\u001b[0m",
            "\u001b[0;31mAttributeError\u001b[0m                            Traceback (most recent call last)",
            "\u001b[0;32m<ipython-input-27-71ef58c605e5>\u001b[0m in \u001b[0;36m<module>\u001b[0;34m()\u001b[0m\n\u001b[1;32m      7\u001b[0m \u001b[0mtipos\u001b[0m \u001b[0;34m=\u001b[0m \u001b[0;34m[\u001b[0m\u001b[0;34m'ACIDENTE'\u001b[0m\u001b[0;34m,\u001b[0m \u001b[0;34m'INCIDENTE'\u001b[0m\u001b[0;34m,\u001b[0m\u001b[0;34m'INCIDENTE GRAVE'\u001b[0m\u001b[0;34m]\u001b[0m\u001b[0;34m\u001b[0m\u001b[0;34m\u001b[0m\u001b[0m\n\u001b[1;32m      8\u001b[0m dic_01 = {i: [ len([k for k in list(ocorrencia_classificacao.loc[ocorrencia_classificacao['tipo'] == i, ['estado']]['estado'])\n\u001b[0;32m----> 9\u001b[0;31m                     if k in ocorrencia_uf[j]]) for j in ocorrencia_uf.keys()] for i in tipos}\n\u001b[0m\u001b[1;32m     10\u001b[0m \u001b[0;34m\u001b[0m\u001b[0m\n\u001b[1;32m     11\u001b[0m \u001b[0mdic_01\u001b[0m\u001b[0;34m[\u001b[0m\u001b[0;34m'Região'\u001b[0m\u001b[0;34m]\u001b[0m \u001b[0;34m=\u001b[0m \u001b[0mlist\u001b[0m\u001b[0;34m(\u001b[0m\u001b[0mocorrencia_uf\u001b[0m\u001b[0;34m.\u001b[0m\u001b[0mkeys\u001b[0m\u001b[0;34m(\u001b[0m\u001b[0;34m)\u001b[0m\u001b[0;34m)\u001b[0m\u001b[0;34m\u001b[0m\u001b[0;34m\u001b[0m\u001b[0m\n",
            "\u001b[0;32m<ipython-input-27-71ef58c605e5>\u001b[0m in \u001b[0;36m<dictcomp>\u001b[0;34m(.0)\u001b[0m\n\u001b[1;32m      7\u001b[0m \u001b[0mtipos\u001b[0m \u001b[0;34m=\u001b[0m \u001b[0;34m[\u001b[0m\u001b[0;34m'ACIDENTE'\u001b[0m\u001b[0;34m,\u001b[0m \u001b[0;34m'INCIDENTE'\u001b[0m\u001b[0;34m,\u001b[0m\u001b[0;34m'INCIDENTE GRAVE'\u001b[0m\u001b[0;34m]\u001b[0m\u001b[0;34m\u001b[0m\u001b[0;34m\u001b[0m\u001b[0m\n\u001b[1;32m      8\u001b[0m dic_01 = {i: [ len([k for k in list(ocorrencia_classificacao.loc[ocorrencia_classificacao['tipo'] == i, ['estado']]['estado'])\n\u001b[0;32m----> 9\u001b[0;31m                     if k in ocorrencia_uf[j]]) for j in ocorrencia_uf.keys()] for i in tipos}\n\u001b[0m\u001b[1;32m     10\u001b[0m \u001b[0;34m\u001b[0m\u001b[0m\n\u001b[1;32m     11\u001b[0m \u001b[0mdic_01\u001b[0m\u001b[0;34m[\u001b[0m\u001b[0;34m'Região'\u001b[0m\u001b[0;34m]\u001b[0m \u001b[0;34m=\u001b[0m \u001b[0mlist\u001b[0m\u001b[0;34m(\u001b[0m\u001b[0mocorrencia_uf\u001b[0m\u001b[0;34m.\u001b[0m\u001b[0mkeys\u001b[0m\u001b[0;34m(\u001b[0m\u001b[0;34m)\u001b[0m\u001b[0;34m)\u001b[0m\u001b[0;34m\u001b[0m\u001b[0;34m\u001b[0m\u001b[0m\n",
            "\u001b[0;32m<ipython-input-27-71ef58c605e5>\u001b[0m in \u001b[0;36m<listcomp>\u001b[0;34m(.0)\u001b[0m\n\u001b[1;32m      7\u001b[0m \u001b[0mtipos\u001b[0m \u001b[0;34m=\u001b[0m \u001b[0;34m[\u001b[0m\u001b[0;34m'ACIDENTE'\u001b[0m\u001b[0;34m,\u001b[0m \u001b[0;34m'INCIDENTE'\u001b[0m\u001b[0;34m,\u001b[0m\u001b[0;34m'INCIDENTE GRAVE'\u001b[0m\u001b[0;34m]\u001b[0m\u001b[0;34m\u001b[0m\u001b[0;34m\u001b[0m\u001b[0m\n\u001b[1;32m      8\u001b[0m dic_01 = {i: [ len([k for k in list(ocorrencia_classificacao.loc[ocorrencia_classificacao['tipo'] == i, ['estado']]['estado'])\n\u001b[0;32m----> 9\u001b[0;31m                     if k in ocorrencia_uf[j]]) for j in ocorrencia_uf.keys()] for i in tipos}\n\u001b[0m\u001b[1;32m     10\u001b[0m \u001b[0;34m\u001b[0m\u001b[0m\n\u001b[1;32m     11\u001b[0m \u001b[0mdic_01\u001b[0m\u001b[0;34m[\u001b[0m\u001b[0;34m'Região'\u001b[0m\u001b[0;34m]\u001b[0m \u001b[0;34m=\u001b[0m \u001b[0mlist\u001b[0m\u001b[0;34m(\u001b[0m\u001b[0mocorrencia_uf\u001b[0m\u001b[0;34m.\u001b[0m\u001b[0mkeys\u001b[0m\u001b[0;34m(\u001b[0m\u001b[0;34m)\u001b[0m\u001b[0;34m)\u001b[0m\u001b[0;34m\u001b[0m\u001b[0;34m\u001b[0m\u001b[0m\n",
            "\u001b[0;31mAttributeError\u001b[0m: 'list' object has no attribute 'loc'"
          ]
        }
      ]
    },
    {
      "cell_type": "code",
      "source": [
        "#Visualizando melhor em um gráfico\n",
        "plt.style.use(\"ggplot\")\n",
        "fig, ax = plt.subplots(figsize=(14, 6))\n",
        "\n",
        "width = 0.25\n",
        "r1 = np.arange(5)\n",
        "r2 = [ x + width for x in r1]\n",
        "r3 = [ x + width for x in r2]\n",
        "\n",
        "rects1 = ax.bar(r1, dados_regioes['ACIDENTE'], width, label='ACIDENTE')\n",
        "rects2 = ax.bar(r2, dados_regioes['INCIDENTE'], width, label='INCIDENTE')\n",
        "rects3 = ax.bar(r3, dados_regioes['INCIDENTE GRAVE'], width, label='INCIDENTE GRAVE')\n",
        "\n",
        "ax.set_ylabel('Ocorrências')\n",
        "ax.set_title('REGIÕES\\nACIDENTE e INCIDENTE (2010-2019)')\n",
        "ax.set_xticks(r2)\n",
        "ax.set_xticklabels(dados_regioes['Região'])\n",
        "ax.legend()\n",
        "\n",
        "numero_em_cima(rects1, ax)\n",
        "numero_em_cima(rects2, ax)\n",
        "numero_em_cima(rects3, ax)\n",
        "\n",
        "plt.show()"
      ],
      "metadata": {
        "colab": {
          "base_uri": "https://localhost:8080/",
          "height": 596
        },
        "id": "0TwhXMZIkxRS",
        "outputId": "3f5254d2-8672-4c74-8fd3-7fffebd4c83e"
      },
      "execution_count": 28,
      "outputs": [
        {
          "output_type": "error",
          "ename": "NameError",
          "evalue": "ignored",
          "traceback": [
            "\u001b[0;31m---------------------------------------------------------------------------\u001b[0m",
            "\u001b[0;31mNameError\u001b[0m                                 Traceback (most recent call last)",
            "\u001b[0;32m<ipython-input-28-24bcbbe49de8>\u001b[0m in \u001b[0;36m<module>\u001b[0;34m()\u001b[0m\n\u001b[1;32m      8\u001b[0m \u001b[0mr3\u001b[0m \u001b[0;34m=\u001b[0m \u001b[0;34m[\u001b[0m \u001b[0mx\u001b[0m \u001b[0;34m+\u001b[0m \u001b[0mwidth\u001b[0m \u001b[0;32mfor\u001b[0m \u001b[0mx\u001b[0m \u001b[0;32min\u001b[0m \u001b[0mr2\u001b[0m\u001b[0;34m]\u001b[0m\u001b[0;34m\u001b[0m\u001b[0;34m\u001b[0m\u001b[0m\n\u001b[1;32m      9\u001b[0m \u001b[0;34m\u001b[0m\u001b[0m\n\u001b[0;32m---> 10\u001b[0;31m \u001b[0mrects1\u001b[0m \u001b[0;34m=\u001b[0m \u001b[0max\u001b[0m\u001b[0;34m.\u001b[0m\u001b[0mbar\u001b[0m\u001b[0;34m(\u001b[0m\u001b[0mr1\u001b[0m\u001b[0;34m,\u001b[0m \u001b[0mdados_regioes\u001b[0m\u001b[0;34m[\u001b[0m\u001b[0;34m'ACIDENTE'\u001b[0m\u001b[0;34m]\u001b[0m\u001b[0;34m,\u001b[0m \u001b[0mwidth\u001b[0m\u001b[0;34m,\u001b[0m \u001b[0mlabel\u001b[0m\u001b[0;34m=\u001b[0m\u001b[0;34m'ACIDENTE'\u001b[0m\u001b[0;34m)\u001b[0m\u001b[0;34m\u001b[0m\u001b[0;34m\u001b[0m\u001b[0m\n\u001b[0m\u001b[1;32m     11\u001b[0m \u001b[0mrects2\u001b[0m \u001b[0;34m=\u001b[0m \u001b[0max\u001b[0m\u001b[0;34m.\u001b[0m\u001b[0mbar\u001b[0m\u001b[0;34m(\u001b[0m\u001b[0mr2\u001b[0m\u001b[0;34m,\u001b[0m \u001b[0mdados_regioes\u001b[0m\u001b[0;34m[\u001b[0m\u001b[0;34m'INCIDENTE'\u001b[0m\u001b[0;34m]\u001b[0m\u001b[0;34m,\u001b[0m \u001b[0mwidth\u001b[0m\u001b[0;34m,\u001b[0m \u001b[0mlabel\u001b[0m\u001b[0;34m=\u001b[0m\u001b[0;34m'INCIDENTE'\u001b[0m\u001b[0;34m)\u001b[0m\u001b[0;34m\u001b[0m\u001b[0;34m\u001b[0m\u001b[0m\n\u001b[1;32m     12\u001b[0m \u001b[0mrects3\u001b[0m \u001b[0;34m=\u001b[0m \u001b[0max\u001b[0m\u001b[0;34m.\u001b[0m\u001b[0mbar\u001b[0m\u001b[0;34m(\u001b[0m\u001b[0mr3\u001b[0m\u001b[0;34m,\u001b[0m \u001b[0mdados_regioes\u001b[0m\u001b[0;34m[\u001b[0m\u001b[0;34m'INCIDENTE GRAVE'\u001b[0m\u001b[0;34m]\u001b[0m\u001b[0;34m,\u001b[0m \u001b[0mwidth\u001b[0m\u001b[0;34m,\u001b[0m \u001b[0mlabel\u001b[0m\u001b[0;34m=\u001b[0m\u001b[0;34m'INCIDENTE GRAVE'\u001b[0m\u001b[0;34m)\u001b[0m\u001b[0;34m\u001b[0m\u001b[0;34m\u001b[0m\u001b[0m\n",
            "\u001b[0;31mNameError\u001b[0m: name 'dados_regioes' is not defined"
          ]
        },
        {
          "output_type": "display_data",
          "data": {
            "text/plain": [
              "<Figure size 1008x432 with 1 Axes>"
            ],
            "image/png": "[encoded data removed]"
          },
          "metadata": {}
        }
      ]
    }
  ]
}